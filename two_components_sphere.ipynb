{
 "cells": [
  {
   "cell_type": "code",
   "id": "initial_id",
   "metadata": {
    "ExecuteTime": {
     "end_time": "2024-05-23T21:23:31.373547Z",
     "start_time": "2024-05-23T21:23:31.002228Z"
    }
   },
   "source": [
    "import numpy as np\n",
    "import matplotlib.pyplot as plt\n",
    "from scipy.integrate import solve_ivp\n",
    "\n",
    "from multi_component_system import Component, MultiComponentSystem\n",
    "from spherical_model import SphericalModel, compute_r_part_effective"
   ],
   "outputs": [],
   "execution_count": 1
  },
  {
   "cell_type": "markdown",
   "id": "fcf8cef5937a4b96",
   "metadata": {},
   "source": [
    "# `MultiComponentSystem` usage for two component condensation\n",
    "\n",
    "This notebook uses the `MultiComponentSystem` class to simulate two component condensation on a spherical particle in the kinetic regime."
   ]
  },
  {
   "cell_type": "markdown",
   "id": "b2c79d885dd350d6",
   "metadata": {},
   "source": [
    "### Create an instance of `Component`\n",
    "\n",
    "Instances of `Component` are created to represent different condensable components. Thermodynamic properties need to be provided in the class constructor. Clausius-Clapeyron equation is used to extrapolate saturated vapor pressure from the reference point."
   ]
  },
  {
   "cell_type": "code",
   "id": "9fff0c63c6edb573",
   "metadata": {
    "ExecuteTime": {
     "end_time": "2024-05-23T21:23:31.379511Z",
     "start_time": "2024-05-23T21:23:31.374957Z"
    }
   },
   "source": [
    "ARO_1_COMPONENT = Component(\n",
    "    'ARO1',     # name\n",
    "    5.7e-5,     # reference vapor pressure\n",
    "    298,        # reference temperature\n",
    "    156e3,      # enthalpy of vaporization\n",
    "    150e-3,     # molar mass\n",
    "    1200.0,     # condensed phase density\n",
    "    0.01        # condensed phase surface tension\n",
    ")\n",
    "\n",
    "ARO_2_COMPONENT = Component(\n",
    "    'ARO2',     # name\n",
    "    1.6e-3,     # reference vapor pressure\n",
    "    298,        # reference temperature\n",
    "    156e3,      # enthalpy of vaporization\n",
    "    150e-3,     # molar mass\n",
    "    1100.0,     # condensed phase density\n",
    "    0.01        # condensed phase surface tension\n",
    ")"
   ],
   "outputs": [],
   "execution_count": 2
  },
  {
   "cell_type": "markdown",
   "id": "37cf1da17bc0e538",
   "metadata": {},
   "source": [
    "### Define a function that describes saturation ratio as a function of time\n",
    "\n",
    "A function that returns vapor saturation ratio as a function of time is defined. The function should return an array of saturation ratios, each corresponding to a condensable component."
   ]
  },
  {
   "cell_type": "code",
   "id": "3f10dbd8150278b7",
   "metadata": {
    "ExecuteTime": {
     "end_time": "2024-05-23T21:23:31.384264Z",
     "start_time": "2024-05-23T21:23:31.381542Z"
    }
   },
   "source": [
    "def xi_function(t: float) -> np.ndarray[float]:\n",
    "    return np.array([\n",
    "        1.08 * 0.7,   # saturation ratio of first component\n",
    "        1.08 * 0.3    # saturation ratio of second component\n",
    "    ])"
   ],
   "outputs": [],
   "execution_count": 3
  },
  {
   "cell_type": "markdown",
   "id": "ab5845fa7a8ff5c8",
   "metadata": {},
   "source": [
    "### Create an instance of `MultiComponentSystem`\n",
    "\n",
    "An instance of `MultiComponentSystem` is created by specifying the components and ambient conditions. Class constructor automatically determines the equilibrium liquid phase composition based on Raoult's law and defines the `condensed_phase_mole_counts_0` attribute, which is an array containing mole counts of each liquid phase component."
   ]
  },
  {
   "cell_type": "code",
   "id": "1b1829858ffc1762",
   "metadata": {
    "ExecuteTime": {
     "end_time": "2024-05-23T21:23:31.387804Z",
     "start_time": "2024-05-23T21:23:31.385537Z"
    }
   },
   "source": [
    "system = MultiComponentSystem(\n",
    "    [\n",
    "        ARO_1_COMPONENT,\n",
    "        ARO_1_COMPONENT\n",
    "    ],                  # the components\n",
    "    xi_function,        # saturation ratio function\n",
    "    14.0e-9,            # radius of the core\n",
    "    1.0e-21,            # initial moles of condensate\n",
    "    101_325.0,          # ambient (atmospheric) pressure\n",
    "    298.0,              # ambient temperature\n",
    "    SphericalModel()    # instance of the selected geometry model\n",
    ")"
   ],
   "outputs": [],
   "execution_count": 4
  },
  {
   "cell_type": "markdown",
   "id": "515eb946fef265c0",
   "metadata": {},
   "source": [
    "### Solve the ODE\n",
    "\n",
    "Integrate the ordinary differential equation that models vapor condensation on a sphere in the kinetic regime by using `scipy.integrate.solve_bvp` and the interface function `MultiComponentSystem.ode_function`."
   ]
  },
  {
   "cell_type": "code",
   "id": "15527c27caa7b9d7",
   "metadata": {
    "ExecuteTime": {
     "end_time": "2024-05-23T21:23:31.392604Z",
     "start_time": "2024-05-23T21:23:31.388635Z"
    }
   },
   "source": [
    "duration = 20.0\n",
    "\n",
    "sol = solve_ivp(\n",
    "    system.ode_function,                    # reference to the function defining the ODE system\n",
    "    [0, duration],                          # start and end time\n",
    "    system.condensed_phase_mole_counts_0,   # initial conditions for condensed phase mole counts were initialized by the constructor\n",
    "    t_eval=np.linspace(0, duration, 100),   # array of time points where the solution has to be evaluated\n",
    "    method='LSODA'                          # use LSODA solver\n",
    ")"
   ],
   "outputs": [],
   "execution_count": 5
  },
  {
   "cell_type": "markdown",
   "id": "fb5cd964792af93a",
   "metadata": {},
   "source": [
    "### Plot the results"
   ]
  },
  {
   "cell_type": "code",
   "id": "dbab380ee74d603f",
   "metadata": {
    "ExecuteTime": {
     "end_time": "2024-05-23T21:23:31.648818Z",
     "start_time": "2024-05-23T21:23:31.393642Z"
    }
   },
   "source": [
    "mole_fractions = sol.y / np.sum(sol.y, axis=0)\n",
    "\n",
    "fig, axs = plt.subplots(2, 2, sharex=True)\n",
    "\n",
    "axs[0, 0].set_title('Moles condensed')\n",
    "axs[0, 0].plot(sol.t, sol.y[0, :])\n",
    "axs[0, 0].plot(sol.t, sol.y[1, :])\n",
    "\n",
    "axs[0, 1].set_title('Mole fractions')\n",
    "axs[0, 1].plot(sol.t, mole_fractions[0, :])\n",
    "axs[0, 1].plot(sol.t, mole_fractions[1, :])\n",
    "\n",
    "axs[1, 0].set_title('Effective radius')\n",
    "axs[1, 0].plot(sol.t, compute_r_part_effective(system.r_part_0, system.compute_condensed_phase_volume(np.transpose(sol.y))) * 1e9)\n",
    "\n",
    "axs[1, 1].set_title('Saturation ratio')\n",
    "axs[1, 1].plot(sol.t, [xi_function(t) for t in sol.t])\n",
    "\n",
    "plt.tight_layout()\n",
    "plt.show()"
   ],
   "outputs": [
    {
     "data": {
      "text/plain": [
       "<Figure size 640x480 with 4 Axes>"
      ],
      "image/png": "[encoded data removed]"
     },
     "metadata": {},
     "output_type": "display_data"
    }
   ],
   "execution_count": 6
  },
  {
   "cell_type": "code",
   "id": "415a03382947ec8d",
   "metadata": {
    "ExecuteTime": {
     "end_time": "2024-05-23T21:23:31.650811Z",
     "start_time": "2024-05-23T21:23:31.649495Z"
    }
   },
   "source": "",
   "outputs": [],
   "execution_count": 6
  }
 ],
 "metadata": {
  "kernelspec": {
   "display_name": "Python 3 (ipykernel)",
   "language": "python",
   "name": "python3"
  },
  "language_info": {
   "codemirror_mode": {
    "name": "ipython",
    "version": 3
   },
   "file_extension": ".py",
   "mimetype": "text/x-python",
   "name": "python",
   "nbconvert_exporter": "python",
   "pygments_lexer": "ipython3",
   "version": "3.11.9"
  }
 },
 "nbformat": 4,
 "nbformat_minor": 5
}
